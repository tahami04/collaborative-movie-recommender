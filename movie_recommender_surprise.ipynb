{
 "cells": [
  {
   "cell_type": "markdown",
   "id": "eb95ca7e",
   "metadata": {},
   "source": [
    "# 🎬 Movie Recommender using Surprise Library"
   ]
  },
  {
   "cell_type": "code",
   "execution_count": null,
   "id": "76459cbf",
   "metadata": {},
   "outputs": [],
   "source": [
    "!pip install scikit-surprise"
   ]
  },
  {
   "cell_type": "markdown",
   "id": "9d2b19a5",
   "metadata": {},
   "source": [
    "## 📥 Load MovieLens Dataset"
   ]
  },
  {
   "cell_type": "code",
   "execution_count": null,
   "id": "a33ab9a2",
   "metadata": {},
   "outputs": [],
   "source": [
    "\n",
    "from surprise import Dataset\n",
    "from surprise import Reader\n",
    "from surprise.model_selection import train_test_split\n",
    "\n",
    "# Load MovieLens 100k dataset\n",
    "data = Dataset.load_builtin('ml-100k')\n",
    "trainset, testset = train_test_split(data, test_size=0.2, random_state=42)\n"
   ]
  },
  {
   "cell_type": "markdown",
   "id": "4f49c3fe",
   "metadata": {},
   "source": [
    "## 📊 Train SVD Model and Evaluate"
   ]
  },
  {
   "cell_type": "code",
   "execution_count": null,
   "id": "483e7b9e",
   "metadata": {},
   "outputs": [],
   "source": [
    "\n",
    "from surprise import SVD\n",
    "from surprise import accuracy\n",
    "\n",
    "model = SVD()\n",
    "model.fit(trainset)\n",
    "predictions = model.test(testset)\n",
    "accuracy.rmse(predictions)\n"
   ]
  },
  {
   "cell_type": "markdown",
   "id": "1cab1de9",
   "metadata": {},
   "source": [
    "## 🔮 Predict Sample Rating"
   ]
  },
  {
   "cell_type": "code",
   "execution_count": null,
   "id": "e8b2cf0e",
   "metadata": {},
   "outputs": [],
   "source": [
    "\n",
    "pred = model.predict(uid=196, iid=302)\n",
    "print(f\"Predicted rating: {pred.est:.2f}\")\n"
   ]
  },
  {
   "cell_type": "markdown",
   "id": "1468e0d7",
   "metadata": {},
   "source": [
    "## 🏆 Top-N Recommendations"
   ]
  },
  {
   "cell_type": "code",
   "execution_count": null,
   "id": "566daa26",
   "metadata": {},
   "outputs": [],
   "source": [
    "\n",
    "from collections import defaultdict\n",
    "\n",
    "def get_top_n(predictions, n=5):\n",
    "    top_n = defaultdict(list)\n",
    "    for uid, iid, true_r, est, _ in predictions:\n",
    "        top_n[uid].append((iid, est))\n",
    "    for uid, user_ratings in top_n.items():\n",
    "        user_ratings.sort(key=lambda x: x[1], reverse=True)\n",
    "        top_n[uid] = user_ratings[:n]\n",
    "    return top_n\n",
    "\n",
    "top_n = get_top_n(predictions, n=5)\n",
    "first_user = list(top_n.keys())[0]\n",
    "print(f\"Top 5 recommendations for user {first_user}:\")\n",
    "for item, score in top_n[first_user]:\n",
    "    print(f\"Item {item}, predicted rating: {score:.2f}\")\n"
   ]
  },
  {
   "cell_type": "markdown",
   "id": "5c15389c",
   "metadata": {},
   "source": [
    "## 🤝 Try KNNBasic Algorithm"
   ]
  },
  {
   "cell_type": "code",
   "execution_count": null,
   "id": "a92f530f",
   "metadata": {},
   "outputs": [],
   "source": [
    "\n",
    "from surprise import KNNBasic\n",
    "\n",
    "knn = KNNBasic()\n",
    "knn.fit(trainset)\n",
    "knn_preds = knn.test(testset)\n",
    "accuracy.rmse(knn_preds)\n"
   ]
  },
  {
   "cell_type": "markdown",
   "id": "769724af",
   "metadata": {},
   "source": [
    "## 📉 Try BaselineOnly Algorithm"
   ]
  },
  {
   "cell_type": "code",
   "execution_count": null,
   "id": "8cfebe08",
   "metadata": {},
   "outputs": [],
   "source": [
    "\n",
    "from surprise import BaselineOnly\n",
    "\n",
    "baseline = BaselineOnly()\n",
    "baseline.fit(trainset)\n",
    "baseline_preds = baseline.test(testset)\n",
    "accuracy.rmse(baseline_preds)\n"
   ]
  },
  {
   "cell_type": "markdown",
   "id": "a6663211",
   "metadata": {},
   "source": [
    "## 🎯 Precision and Recall at K"
   ]
  },
  {
   "cell_type": "code",
   "execution_count": null,
   "id": "2ed0acab",
   "metadata": {},
   "outputs": [],
   "source": [
    "\n",
    "from surprise.model_selection import cross_validate\n",
    "from surprise import accuracy\n",
    "\n",
    "print(\"Cross-Validation for SVD\")\n",
    "cross_validate(SVD(), data, measures=['RMSE', 'MAE'], cv=5, verbose=True)\n"
   ]
  }
 ],
 "metadata": {},
 "nbformat": 4,
 "nbformat_minor": 5
}
