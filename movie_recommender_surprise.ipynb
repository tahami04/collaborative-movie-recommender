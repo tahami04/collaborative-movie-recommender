{
 "cells": [
  {
   "cell_type": "markdown",
   "id": "eb95ca7e",
   "metadata": {},
   "source": [
    "# 🎬 Movie Recommender using Surprise Library"
   ]
  },
  {
   "cell_type": "code",
   "execution_count": 5,
   "id": "76459cbf",
   "metadata": {},
   "outputs": [
    {
     "name": "stdout",
     "output_type": "stream",
     "text": [
      "Collecting scikit-surprise\n",
      "  Using cached scikit_surprise-1.1.4.tar.gz (154 kB)\n",
      "  Installing build dependencies ... \u001b[?25ldone\n",
      "\u001b[?25h  Getting requirements to build wheel ... \u001b[?25ldone\n",
      "\u001b[?25h  Preparing metadata (pyproject.toml) ... \u001b[?25ldone\n",
      "\u001b[?25hRequirement already satisfied: joblib>=1.2.0 in /opt/anaconda3/lib/python3.12/site-packages (from scikit-surprise) (1.4.2)\n",
      "Requirement already satisfied: numpy>=1.19.5 in /opt/anaconda3/lib/python3.12/site-packages (from scikit-surprise) (1.26.4)\n",
      "Requirement already satisfied: scipy>=1.6.0 in /opt/anaconda3/lib/python3.12/site-packages (from scikit-surprise) (1.13.1)\n",
      "Building wheels for collected packages: scikit-surprise\n",
      "  Building wheel for scikit-surprise (pyproject.toml) ... \u001b[?25ldone\n",
      "\u001b[?25h  Created wheel for scikit-surprise: filename=scikit_surprise-1.1.4-cp312-cp312-macosx_11_0_arm64.whl size=472505 sha256=e8521c2f8f685e97effefdddc619ab3020708fa8a1db68b447c62560ef5f4723\n",
      "  Stored in directory: /Users/tahami-ahmad/Library/Caches/pip/wheels/75/fa/bc/739bc2cb1fbaab6061854e6cfbb81a0ae52c92a502a7fa454b\n",
      "Successfully built scikit-surprise\n",
      "Installing collected packages: scikit-surprise\n",
      "Successfully installed scikit-surprise-1.1.4\n",
      "\n",
      "\u001b[1m[\u001b[0m\u001b[34;49mnotice\u001b[0m\u001b[1;39;49m]\u001b[0m\u001b[39;49m A new release of pip is available: \u001b[0m\u001b[31;49m25.0.1\u001b[0m\u001b[39;49m -> \u001b[0m\u001b[32;49m25.1.1\u001b[0m\n",
      "\u001b[1m[\u001b[0m\u001b[34;49mnotice\u001b[0m\u001b[1;39;49m]\u001b[0m\u001b[39;49m To update, run: \u001b[0m\u001b[32;49mpip install --upgrade pip\u001b[0m\n"
     ]
    }
   ],
   "source": [
    "!pip install scikit-surprise"
   ]
  },
  {
   "cell_type": "markdown",
   "id": "9d2b19a5",
   "metadata": {},
   "source": [
    "## 📥 Load MovieLens Dataset"
   ]
  },
  {
   "cell_type": "code",
   "execution_count": 2,
   "id": "a33ab9a2",
   "metadata": {},
   "outputs": [
    {
     "name": "stdout",
     "output_type": "stream",
     "text": [
      "Dataset ml-100k could not be found. Do you want to download it? [Y/n] "
     ]
    },
    {
     "name": "stdin",
     "output_type": "stream",
     "text": [
      " y\n"
     ]
    },
    {
     "name": "stdout",
     "output_type": "stream",
     "text": [
      "Trying to download dataset from https://files.grouplens.org/datasets/movielens/ml-100k.zip...\n",
      "Done! Dataset ml-100k has been saved to /Users/tahami-ahmad/.surprise_data/ml-100k\n"
     ]
    }
   ],
   "source": [
    "\n",
    "from surprise import Dataset\n",
    "from surprise import Reader\n",
    "from surprise.model_selection import train_test_split\n",
    "\n",
    "# Load MovieLens 100k dataset\n",
    "data = Dataset.load_builtin('ml-100k')\n",
    "trainset, testset = train_test_split(data, test_size=0.2, random_state=42)\n"
   ]
  },
  {
   "cell_type": "markdown",
   "id": "4f49c3fe",
   "metadata": {},
   "source": [
    "## 📊 Train SVD Model and Evaluate"
   ]
  },
  {
   "cell_type": "code",
   "execution_count": 5,
   "id": "483e7b9e",
   "metadata": {},
   "outputs": [
    {
     "name": "stdout",
     "output_type": "stream",
     "text": [
      "RMSE: 0.9386\n"
     ]
    },
    {
     "data": {
      "text/plain": [
       "0.9385623601086499"
      ]
     },
     "execution_count": 5,
     "metadata": {},
     "output_type": "execute_result"
    }
   ],
   "source": [
    "\n",
    "from surprise import SVD\n",
    "from surprise import accuracy\n",
    "\n",
    "model = SVD()\n",
    "model.fit(trainset)\n",
    "predictions = model.test(testset)\n",
    "accuracy.rmse(predictions)\n"
   ]
  },
  {
   "cell_type": "markdown",
   "id": "1cab1de9",
   "metadata": {},
   "source": [
    "## 🔮 Predict Sample Rating"
   ]
  },
  {
   "cell_type": "code",
   "execution_count": 8,
   "id": "e8b2cf0e",
   "metadata": {},
   "outputs": [
    {
     "name": "stdout",
     "output_type": "stream",
     "text": [
      "Predicted rating: 3.53\n"
     ]
    }
   ],
   "source": [
    "\n",
    "pred = model.predict(uid=196, iid=302)\n",
    "print(f\"Predicted rating: {pred.est:.2f}\")\n"
   ]
  },
  {
   "cell_type": "markdown",
   "id": "1468e0d7",
   "metadata": {},
   "source": [
    "## 🏆 Top-N Recommendations"
   ]
  },
  {
   "cell_type": "code",
   "execution_count": 11,
   "id": "566daa26",
   "metadata": {},
   "outputs": [
    {
     "name": "stdout",
     "output_type": "stream",
     "text": [
      "Top 5 recommendations for user 907:\n",
      "Item 79, predicted rating: 5.00\n",
      "Item 172, predicted rating: 5.00\n",
      "Item 185, predicted rating: 5.00\n",
      "Item 98, predicted rating: 5.00\n",
      "Item 144, predicted rating: 4.96\n"
     ]
    }
   ],
   "source": [
    "\n",
    "from collections import defaultdict\n",
    "\n",
    "def get_top_n(predictions, n=5):\n",
    "    top_n = defaultdict(list)\n",
    "    for uid, iid, true_r, est, _ in predictions:\n",
    "        top_n[uid].append((iid, est))\n",
    "    for uid, user_ratings in top_n.items():\n",
    "        user_ratings.sort(key=lambda x: x[1], reverse=True)\n",
    "        top_n[uid] = user_ratings[:n]\n",
    "    return top_n\n",
    "\n",
    "top_n = get_top_n(predictions, n=5)\n",
    "first_user = list(top_n.keys())[0]\n",
    "print(f\"Top 5 recommendations for user {first_user}:\")\n",
    "for item, score in top_n[first_user]:\n",
    "    print(f\"Item {item}, predicted rating: {score:.2f}\")\n"
   ]
  },
  {
   "cell_type": "markdown",
   "id": "5c15389c",
   "metadata": {},
   "source": [
    "## 🤝 Try KNNBasic Algorithm"
   ]
  },
  {
   "cell_type": "code",
   "execution_count": 14,
   "id": "a92f530f",
   "metadata": {},
   "outputs": [
    {
     "name": "stdout",
     "output_type": "stream",
     "text": [
      "Computing the msd similarity matrix...\n",
      "Done computing similarity matrix.\n",
      "RMSE: 0.9802\n"
     ]
    },
    {
     "data": {
      "text/plain": [
       "0.980150596704479"
      ]
     },
     "execution_count": 14,
     "metadata": {},
     "output_type": "execute_result"
    }
   ],
   "source": [
    "\n",
    "from surprise import KNNBasic\n",
    "\n",
    "knn = KNNBasic()\n",
    "knn.fit(trainset)\n",
    "knn_preds = knn.test(testset)\n",
    "accuracy.rmse(knn_preds)\n"
   ]
  },
  {
   "cell_type": "markdown",
   "id": "769724af",
   "metadata": {},
   "source": [
    "## 📉 Try BaselineOnly Algorithm"
   ]
  },
  {
   "cell_type": "code",
   "execution_count": 17,
   "id": "8cfebe08",
   "metadata": {},
   "outputs": [
    {
     "name": "stdout",
     "output_type": "stream",
     "text": [
      "Estimating biases using als...\n",
      "RMSE: 0.9442\n"
     ]
    },
    {
     "data": {
      "text/plain": [
       "0.9441798799352237"
      ]
     },
     "execution_count": 17,
     "metadata": {},
     "output_type": "execute_result"
    }
   ],
   "source": [
    "\n",
    "from surprise import BaselineOnly\n",
    "\n",
    "baseline = BaselineOnly()\n",
    "baseline.fit(trainset)\n",
    "baseline_preds = baseline.test(testset)\n",
    "accuracy.rmse(baseline_preds)\n"
   ]
  },
  {
   "cell_type": "markdown",
   "id": "a6663211",
   "metadata": {},
   "source": [
    "## 🎯 Precision and Recall at K"
   ]
  },
  {
   "cell_type": "code",
   "execution_count": 20,
   "id": "2ed0acab",
   "metadata": {},
   "outputs": [
    {
     "name": "stdout",
     "output_type": "stream",
     "text": [
      "Cross-Validation for SVD\n",
      "Evaluating RMSE, MAE of algorithm SVD on 5 split(s).\n",
      "\n",
      "                  Fold 1  Fold 2  Fold 3  Fold 4  Fold 5  Mean    Std     \n",
      "RMSE (testset)    0.9364  0.9403  0.9435  0.9335  0.9352  0.9378  0.0036  \n",
      "MAE (testset)     0.7391  0.7414  0.7426  0.7362  0.7333  0.7385  0.0034  \n",
      "Fit time          0.21    0.21    0.21    0.22    0.24    0.22    0.01    \n",
      "Test time         0.02    0.05    0.02    0.05    0.03    0.04    0.01    \n"
     ]
    },
    {
     "data": {
      "text/plain": [
       "{'test_rmse': array([0.93636056, 0.9402807 , 0.94348033, 0.93353363, 0.93519846]),\n",
       " 'test_mae': array([0.73912696, 0.7413554 , 0.74257198, 0.73620154, 0.73325276]),\n",
       " 'fit_time': (0.21038603782653809,\n",
       "  0.20552396774291992,\n",
       "  0.206373929977417,\n",
       "  0.21709799766540527,\n",
       "  0.24342036247253418),\n",
       " 'test_time': (0.024439096450805664,\n",
       "  0.051154136657714844,\n",
       "  0.02377796173095703,\n",
       "  0.05498695373535156,\n",
       "  0.026182889938354492)}"
      ]
     },
     "execution_count": 20,
     "metadata": {},
     "output_type": "execute_result"
    }
   ],
   "source": [
    "\n",
    "from surprise.model_selection import cross_validate\n",
    "from surprise import accuracy\n",
    "\n",
    "print(\"Cross-Validation for SVD\")\n",
    "cross_validate(SVD(), data, measures=['RMSE', 'MAE'], cv=5, verbose=True)\n"
   ]
  },
  {
   "cell_type": "code",
   "execution_count": null,
   "id": "f0df0da2-7ca5-40cc-9c78-12622a2772a9",
   "metadata": {},
   "outputs": [],
   "source": []
  }
 ],
 "metadata": {
  "kernelspec": {
   "display_name": "Python [conda env:base] *",
   "language": "python",
   "name": "conda-base-py"
  },
  "language_info": {
   "codemirror_mode": {
    "name": "ipython",
    "version": 3
   },
   "file_extension": ".py",
   "mimetype": "text/x-python",
   "name": "python",
   "nbconvert_exporter": "python",
   "pygments_lexer": "ipython3",
   "version": "3.12.7"
  }
 },
 "nbformat": 4,
 "nbformat_minor": 5
}
